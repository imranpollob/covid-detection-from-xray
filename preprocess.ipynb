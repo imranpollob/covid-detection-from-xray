{
 "metadata": {
  "language_info": {
   "codemirror_mode": {
    "name": "ipython",
    "version": 3
   },
   "file_extension": ".py",
   "mimetype": "text/x-python",
   "name": "python",
   "nbconvert_exporter": "python",
   "pygments_lexer": "ipython3",
   "version": "3.7.7-final"
  },
  "orig_nbformat": 2,
  "kernelspec": {
   "name": "python3",
   "display_name": "Python 3",
   "language": "python"
  }
 },
 "nbformat": 4,
 "nbformat_minor": 2,
 "cells": [
  {
   "source": [
    "# Data preprocessing and organization\n",
    "\n",
    "1. First clone this repo https://github.com/ieee8023/covid-chestxray-dataset \n",
    "2. Download data from https://www.kaggle.com/paultimothymooney/chest-xray-pneumonia\n",
    "\n",
    "Extract file downloaded from kaggle and rename as \"chest_xray_kaggle\"\n"
   ],
   "cell_type": "markdown",
   "metadata": {}
  },
  {
   "cell_type": "code",
   "execution_count": null,
   "metadata": {},
   "outputs": [],
   "source": [
    "if not os.path.exists('Dataset'):\n",
    "    os.mkdir('Dataset')\n",
    "    print('Dataset folder created')"
   ]
  },
  {
   "cell_type": "code",
   "execution_count": null,
   "metadata": {},
   "outputs": [],
   "source": [
    "import pandas as pd\n",
    "import os\n",
    "import shutil"
   ]
  },
  {
   "cell_type": "code",
   "execution_count": null,
   "metadata": {},
   "outputs": [],
   "source": [
    "# create data for positive samples\n",
    "FILE_PATH = \"covid-chestxray-dataset/metadata.csv\"\n",
    "IMAGES_PATH = \"covid-chestxray-dataset/images\""
   ]
  },
  {
   "cell_type": "code",
   "execution_count": null,
   "metadata": {},
   "outputs": [],
   "source": [
    "df = pd.read_csv(FILE_PATH)\n",
    "print(df.shape)"
   ]
  },
  {
   "cell_type": "code",
   "execution_count": null,
   "metadata": {},
   "outputs": [],
   "source": [
    "df.head()"
   ]
  },
  {
   "cell_type": "code",
   "execution_count": null,
   "metadata": {},
   "outputs": [],
   "source": [
    "TARGET_DIR = \"Dataset/Covid\"\n",
    "\n",
    "if not os.path.exists(TARGET_DIR):\n",
    "    os.mkdir(TARGET_DIR)\n",
    "    print('Covid folder created')"
   ]
  },
  {
   "cell_type": "code",
   "execution_count": null,
   "metadata": {},
   "outputs": [],
   "source": [
    "count = 0\n",
    "\n",
    "for (i, row) in df.iterrows():\n",
    "    if row[\"finding\"] == \"COVID-19\" and row['view'] == 'PA':\n",
    "        filename = row['filename']\n",
    "        img_path = os.path.join(IMAGES_PATH, filename)\n",
    "        img_copy_path = os.path.join(TARGET_DIR, filename)\n",
    "        shutil.copy2(img_path, img_copy_path)\n",
    "        print('Moving images ', count)\n",
    "        count += 1"
   ]
  },
  {
   "cell_type": "code",
   "execution_count": null,
   "metadata": {},
   "outputs": [],
   "source": [
    "# collect normal sample images from kaggle\n",
    "# we will choose same number of normal images as covid images\n",
    "import random\n",
    "\n",
    "KAGGLE_FILE_PATH = \"chest_xray_kaggle/train/NORMAL\"\n",
    "TARGET_NORMAL_DIR = \"Dataset/Normal\""
   ]
  },
  {
   "cell_type": "code",
   "execution_count": null,
   "metadata": {},
   "outputs": [],
   "source": [
    "if not os.path.exists(TARGET_NORMAL_DIR):\n",
    "    os.mkdir(TARGET_NORMAL_DIR)\n",
    "    print('Normal folder created')"
   ]
  },
  {
   "cell_type": "code",
   "execution_count": null,
   "metadata": {},
   "outputs": [],
   "source": [
    "image_names = os.listdir(KAGGLE_FILE_PATH)\n",
    "image_names"
   ]
  },
  {
   "cell_type": "code",
   "execution_count": null,
   "metadata": {},
   "outputs": [],
   "source": [
    "random.shuffle(image_names)"
   ]
  },
  {
   "cell_type": "code",
   "execution_count": null,
   "metadata": {},
   "outputs": [],
   "source": [
    "for i in random(142):\n",
    "    image_name = image_names[i]\n",
    "    image_path = os.path.join(KAGGLE_FILE_PATH, image_name)\n",
    "    target_path = os.path.join(TARGET_NORMAL_DIR, image_name)\n",
    "    shutil.copy2(image_path, target_path)\n",
    "    print('Copying images ', i)"
   ]
  },
  {
   "source": [
    "## Preparing Traning and Testing data\n",
    "\n",
    "Finally make a folder named \"CovidDataset\"\n",
    "\n",
    "Inside the CovidDataset folder make two folders named \"Train\" nad \"Test\"\n",
    "\n",
    "Each of these two folder should have \"Covid\" and \"Normal\" folders.\n",
    "\n",
    "Now cut majority of files into Train folder and rest of of the files into Test folder.\n",
    "\n",
    "Final folder structure should be like below:\n",
    "```\n",
    "> CovidDataset\n",
    "    > Train\n",
    "        > Covid\n",
    "        > Normal\n",
    "    > Test\n",
    "        > Covid\n",
    "        > Normal\n",
    "```\n",
    "\n",
    "That's it. Now we can move to main part.\n"
   ],
   "cell_type": "markdown",
   "metadata": {}
  }
 ]
}